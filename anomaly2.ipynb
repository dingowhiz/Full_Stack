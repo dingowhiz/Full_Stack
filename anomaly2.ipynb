{
  "cells": [
    {
      "cell_type": "markdown",
      "metadata": {
        "id": "view-in-github",
        "colab_type": "text"
      },
      "source": [
        "<a href=\"https://colab.research.google.com/github/dingowhiz/Full_Stack/blob/main/anomaly2.ipynb\" target=\"_parent\"><img src=\"https://colab.research.google.com/assets/colab-badge.svg\" alt=\"Open In Colab\"/></a>"
      ]
    },
    {
      "cell_type": "code",
      "execution_count": 1,
      "metadata": {
        "colab": {
          "base_uri": "https://localhost:8080/",
          "height": 381
        },
        "id": "VomLaBsO8HYM",
        "outputId": "88be843a-17e5-47ec-b0d6-811103030c14"
      },
      "outputs": [
        {
          "output_type": "stream",
          "name": "stdout",
          "text": [
            "start >>>\n"
          ]
        },
        {
          "output_type": "execute_result",
          "data": {
            "text/plain": [
              "<pandas.io.formats.style.Styler at 0x7f335753a6d0>"
            ],
            "text/html": [
              "<style type=\"text/css\">\n",
              "#T_7aeaf_row0_col0, #T_7aeaf_row0_col1, #T_7aeaf_row1_col0, #T_7aeaf_row1_col1, #T_7aeaf_row2_col0, #T_7aeaf_row2_col1, #T_7aeaf_row3_col0, #T_7aeaf_row3_col1, #T_7aeaf_row4_col0, #T_7aeaf_row4_col1, #T_7aeaf_row5_col0, #T_7aeaf_row5_col1, #T_7aeaf_row6_col0, #T_7aeaf_row6_col1, #T_7aeaf_row7_col0, #T_7aeaf_row7_col1, #T_7aeaf_row9_col0, #T_7aeaf_row9_col1 {\n",
              "  font-weight: normal;\n",
              "}\n",
              "#T_7aeaf_row8_col0, #T_7aeaf_row8_col1 {\n",
              "  font-weight: bold;\n",
              "}\n",
              "</style>\n",
              "<table id=\"T_7aeaf_\" class=\"dataframe\">\n",
              "  <thead>\n",
              "    <tr>\n",
              "      <th class=\"blank level0\" >&nbsp;</th>\n",
              "      <th class=\"col_heading level0 col0\" >hourly_traffic</th>\n",
              "      <th class=\"col_heading level0 col1\" >is_outlier</th>\n",
              "    </tr>\n",
              "  </thead>\n",
              "  <tbody>\n",
              "    <tr>\n",
              "      <th id=\"T_7aeaf_level0_row0\" class=\"row_heading level0 row0\" >0</th>\n",
              "      <td id=\"T_7aeaf_row0_col0\" class=\"data row0 col0\" >120</td>\n",
              "      <td id=\"T_7aeaf_row0_col1\" class=\"data row0 col1\" >False</td>\n",
              "    </tr>\n",
              "    <tr>\n",
              "      <th id=\"T_7aeaf_level0_row1\" class=\"row_heading level0 row1\" >1</th>\n",
              "      <td id=\"T_7aeaf_row1_col0\" class=\"data row1 col0\" >123</td>\n",
              "      <td id=\"T_7aeaf_row1_col1\" class=\"data row1 col1\" >False</td>\n",
              "    </tr>\n",
              "    <tr>\n",
              "      <th id=\"T_7aeaf_level0_row2\" class=\"row_heading level0 row2\" >2</th>\n",
              "      <td id=\"T_7aeaf_row2_col0\" class=\"data row2 col0\" >124</td>\n",
              "      <td id=\"T_7aeaf_row2_col1\" class=\"data row2 col1\" >False</td>\n",
              "    </tr>\n",
              "    <tr>\n",
              "      <th id=\"T_7aeaf_level0_row3\" class=\"row_heading level0 row3\" >3</th>\n",
              "      <td id=\"T_7aeaf_row3_col0\" class=\"data row3 col0\" >119</td>\n",
              "      <td id=\"T_7aeaf_row3_col1\" class=\"data row3 col1\" >False</td>\n",
              "    </tr>\n",
              "    <tr>\n",
              "      <th id=\"T_7aeaf_level0_row4\" class=\"row_heading level0 row4\" >4</th>\n",
              "      <td id=\"T_7aeaf_row4_col0\" class=\"data row4 col0\" >196</td>\n",
              "      <td id=\"T_7aeaf_row4_col1\" class=\"data row4 col1\" >False</td>\n",
              "    </tr>\n",
              "    <tr>\n",
              "      <th id=\"T_7aeaf_level0_row5\" class=\"row_heading level0 row5\" >5</th>\n",
              "      <td id=\"T_7aeaf_row5_col0\" class=\"data row5 col0\" >121</td>\n",
              "      <td id=\"T_7aeaf_row5_col1\" class=\"data row5 col1\" >False</td>\n",
              "    </tr>\n",
              "    <tr>\n",
              "      <th id=\"T_7aeaf_level0_row6\" class=\"row_heading level0 row6\" >6</th>\n",
              "      <td id=\"T_7aeaf_row6_col0\" class=\"data row6 col0\" >118</td>\n",
              "      <td id=\"T_7aeaf_row6_col1\" class=\"data row6 col1\" >False</td>\n",
              "    </tr>\n",
              "    <tr>\n",
              "      <th id=\"T_7aeaf_level0_row7\" class=\"row_heading level0 row7\" >7</th>\n",
              "      <td id=\"T_7aeaf_row7_col0\" class=\"data row7 col0\" >117</td>\n",
              "      <td id=\"T_7aeaf_row7_col1\" class=\"data row7 col1\" >False</td>\n",
              "    </tr>\n",
              "    <tr>\n",
              "      <th id=\"T_7aeaf_level0_row8\" class=\"row_heading level0 row8\" >8</th>\n",
              "      <td id=\"T_7aeaf_row8_col0\" class=\"data row8 col0\" >500</td>\n",
              "      <td id=\"T_7aeaf_row8_col1\" class=\"data row8 col1\" >True</td>\n",
              "    </tr>\n",
              "    <tr>\n",
              "      <th id=\"T_7aeaf_level0_row9\" class=\"row_heading level0 row9\" >9</th>\n",
              "      <td id=\"T_7aeaf_row9_col0\" class=\"data row9 col0\" >132</td>\n",
              "      <td id=\"T_7aeaf_row9_col1\" class=\"data row9 col1\" >False</td>\n",
              "    </tr>\n",
              "  </tbody>\n",
              "</table>\n"
            ]
          },
          "metadata": {},
          "execution_count": 1
        }
      ],
      "source": [
        "# 1. anomaly detection using basic statistics\n",
        "from sklearn.datasets import make_classification\n",
        "from sklearn.metrics import precision_score, recall_score\n",
        "import pandas as pd\n",
        "\n",
        "print('start >>>')\n",
        "x, y = make_classification(\n",
        "    n_samples=1000, n_features=2, n_informative=2, n_redundant=0, n_repeated=0, n_classes=2,\n",
        "    n_clusters_per_class=2, weights=[0.98, ], class_sep=0.5, scale=1.0, shuffle=True, flip_y=0, random_state=0\n",
        ")\n",
        "\n",
        "hourly_traffic = [\n",
        "    120, 123, 124, 119, 196,\n",
        "    121, 118, 117, 500, 132\n",
        "]\n",
        "\n",
        "pd.Series(hourly_traffic) > pd.Series(hourly_traffic).quantile(0.95)\n",
        "\n",
        "class PercentileDetection:\n",
        "    def __init__(self, percentile=0.9):\n",
        "        self.percentile = percentile\n",
        "    def fit(self, x, y=None):\n",
        "        self.threshold = pd.Series(x).quantile(self.percentile)\n",
        "    def predict(self, x, y=None):\n",
        "        return (pd.Series(x) > self.threshold).values\n",
        "    def fit_predict(self, x, y=None):\n",
        "        self.fit(x)\n",
        "        return self.predict(x)\n",
        "\n",
        "outlierd = PercentileDetection(percentile=0.95)\n",
        "df = pd.DataFrame(\n",
        "    { \n",
        "        'hourly_traffic' : hourly_traffic,\n",
        "        'is_outlier' : outlierd.fit_predict(hourly_traffic)\n",
        "    }\n",
        ").style.apply(\n",
        "    lambda row: ['font-weight:bold'] * len(row)\n",
        "      if row['is_outlier'] == True\n",
        "      else ['font-weight: normal'] * len(row), axis=1 \n",
        ")\n",
        "df"
      ]
    },
    {
      "cell_type": "code",
      "execution_count": 2,
      "metadata": {
        "colab": {
          "base_uri": "https://localhost:8080/"
        },
        "id": "iHdvqo7x8HYU",
        "outputId": "4613f45c-192a-450e-d861-9ffb5dd470b9"
      },
      "outputs": [
        {
          "output_type": "stream",
          "name": "stdout",
          "text": [
            "Precision: 4.00%, Recall: 5.00% [Percentile Detection]\n"
          ]
        }
      ],
      "source": [
        "# 1b. using percentiles for multi-dimensional data\n",
        "outlierd = PercentileDetection(percentile=0.98)\n",
        "y_pred = outlierd.fit_predict(x[:,0])\n",
        "\n",
        "outlierd = PercentileDetection(percentile=0.98)\n",
        "y_pred = outlierd.fit_predict(x[:,1])\n",
        "\n",
        "class PercentileDetection:\n",
        "    def __init__(self, percentile=0.9):\n",
        "        self.percentile = percentile\n",
        "    def fit(self, x, y=None):\n",
        "        self.thresholds = [\n",
        "            pd.Series(x[:,i]).quantile(self.percentile)\n",
        "            for i in range(x.shape[1])\n",
        "        ]\n",
        "    def predict(self, x, y=None):\n",
        "        return (x > self.thresholds).max(axis=1)\n",
        "    def fit_predict(self, x, y=None):\n",
        "        self.fit(x)\n",
        "        return self.predict(x)\n",
        "        \n",
        "outlierd = PercentileDetection(percentile=0.98)\n",
        "y_pred = outlierd.fit_predict(x)\n",
        "\n",
        "print(\n",
        "    'Precision: {:.02%}, Recall: {:.02%} [Percentile Detection]'.format(\n",
        "        precision_score(y, y_pred, pos_label=1),\n",
        "        recall_score(y, y_pred, pos_label=1),\n",
        "    )\n",
        ")\n"
      ]
    },
    {
      "cell_type": "code",
      "execution_count": 3,
      "metadata": {
        "colab": {
          "base_uri": "https://localhost:8080/"
        },
        "id": "O1BTPnQk8HYX",
        "outputId": "ce5394f0-2c7d-4269-b411-f7a36ab4e99b"
      },
      "outputs": [
        {
          "output_type": "stream",
          "name": "stdout",
          "text": [
            "Precision: 9.00%, Recall: 45.00% [Percentile Detection]\n"
          ]
        }
      ],
      "source": [
        "# 2. anomaly detection using EllipticEnvelope\n",
        "from sklearn.covariance import EllipticEnvelope\n",
        "from sklearn.metrics import precision_score, recall_score\n",
        "\n",
        "ee = EllipticEnvelope(random_state=0)\n",
        "y_pred = ee.fit_predict(x) == -1\n",
        "\n",
        "print(\n",
        "    'Precision: {:.02%}, Recall: {:.02%} [Percentile Detection]'.format(\n",
        "        precision_score(y, y_pred, pos_label=1),\n",
        "        recall_score(y, y_pred, pos_label=1),\n",
        "    )\n",
        ")\n"
      ]
    },
    {
      "cell_type": "code",
      "execution_count": 4,
      "metadata": {
        "colab": {
          "base_uri": "https://localhost:8080/"
        },
        "id": "eKkfzXJ38HYZ",
        "outputId": "8654ca8b-ec93-4c00-deec-4c7c1c2ce186"
      },
      "outputs": [
        {
          "output_type": "stream",
          "name": "stdout",
          "text": [
            "LOF: Precision: 80.00%, Recall: 40.00% [Quantile=1%]\n",
            "LOF: Precision: 50.00%, Recall: 50.00% [Quantile=2%]\n",
            "LOF: Precision: 14.00%, Recall: 70.00% [Quantile=10%]\n"
          ]
        }
      ],
      "source": [
        "# 3. anomaly detection using Local Outlier Factor (LOF)\n",
        "\n",
        "from sklearn.neighbors import LocalOutlierFactor\n",
        "from sklearn.metrics import precision_score, recall_score\n",
        "import numpy as np\n",
        "\n",
        "lof = LocalOutlierFactor(n_neighbors=50)\n",
        "y_pred = lof.fit_predict(x) == -1\n",
        "\n",
        "lof = LocalOutlierFactor(n_neighbors=50)\n",
        "lof.fit(x)\n",
        "\n",
        "for quantile in [0.01, 0.02, 0.1]:\n",
        "    y_pred = lof.negative_outlier_factor_ < np.quantile(\n",
        "        lof.negative_outlier_factor_, quantile\n",
        "    )\n",
        "    print(\n",
        "        'LOF: Precision: {:.02%}, Recall: {:.02%} [Quantile={:.0%}]'.format(\n",
        "            precision_score(y, y_pred, pos_label=1),\n",
        "            recall_score(y, y_pred, pos_label=1),\n",
        "            quantile\n",
        "                 )\n",
        "          )\n",
        "\n",
        "\n"
      ]
    },
    {
      "cell_type": "code",
      "execution_count": 5,
      "metadata": {
        "colab": {
          "base_uri": "https://localhost:8080/"
        },
        "id": "rnpNkT5w8HYc",
        "outputId": "e5410433-ce1b-44a3-ff0e-31c3074615bd"
      },
      "outputs": [
        {
          "output_type": "stream",
          "name": "stdout",
          "text": [
            "Novelty LOF: Precision: 26.53%, Recall: 65.00% [Quantile=10%]\n"
          ]
        }
      ],
      "source": [
        "# Novelty detection using LOF\n",
        "\n",
        "from sklearn.neighbors import LocalOutlierFactor\n",
        "\n",
        "x_inliers = x[y==0]\n",
        "\n",
        "lof = LocalOutlierFactor(n_neighbors=50, novelty=True)\n",
        "lof.fit(x_inliers)\n",
        "y_pred = lof.predict(x) == -1\n",
        "\n",
        "print(\n",
        "        'Novelty LOF: Precision: {:.02%}, Recall: {:.02%} [Quantile={:.0%}]'.format(\n",
        "            precision_score(y, y_pred, pos_label=1),\n",
        "            recall_score(y, y_pred, pos_label=1),\n",
        "            quantile\n",
        "                 )\n",
        "          )"
      ]
    },
    {
      "cell_type": "code",
      "execution_count": 6,
      "metadata": {
        "colab": {
          "base_uri": "https://localhost:8080/"
        },
        "id": "MxEe22aZ8HYe",
        "outputId": "f5cb7129-14b9-42d2-9532-6d4b26f5aca2"
      },
      "outputs": [
        {
          "output_type": "stream",
          "name": "stdout",
          "text": [
            "Isolation Forest: Precision: 6.45%, Recall: 60.00% [Quantile=10%]\n"
          ]
        }
      ],
      "source": [
        "# 4. anomaly detection using isolation forest\n",
        "\n",
        "from sklearn.ensemble import IsolationForest\n",
        "\n",
        "iforest = IsolationForest(n_estimators=200, n_jobs=-1, random_state=10)\n",
        "y_pred = iforest.fit_predict(x) ==-1\n",
        "\n",
        "print(\n",
        "        'Isolation Forest: Precision: {:.02%}, Recall: {:.02%} [Quantile={:.0%}]'.format(\n",
        "            precision_score(y, y_pred, pos_label=1),\n",
        "            recall_score(y, y_pred, pos_label=1),\n",
        "            quantile\n",
        "                 )\n",
        "          )\n"
      ]
    }
  ],
  "metadata": {
    "colab": {
      "collapsed_sections": [],
      "name": "anomaly2.ipynb",
      "provenance": [],
      "include_colab_link": true
    },
    "interpreter": {
      "hash": "cf92aa13fedf815d5c8dd192b8d835913fde3e8bc926b2a0ad6cc74ef2ba3ca2"
    },
    "kernelspec": {
      "display_name": "Python 3.9.1 64-bit",
      "language": "python",
      "name": "python3"
    },
    "language_info": {
      "codemirror_mode": {
        "name": "ipython",
        "version": 3
      },
      "file_extension": ".py",
      "mimetype": "text/x-python",
      "name": "python",
      "nbconvert_exporter": "python",
      "pygments_lexer": "ipython3",
      "version": "3.9.1"
    }
  },
  "nbformat": 4,
  "nbformat_minor": 0
}